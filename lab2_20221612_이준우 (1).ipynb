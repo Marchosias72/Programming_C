{
  "nbformat": 4,
  "nbformat_minor": 0,
  "metadata": {
    "colab": {
      "provenance": []
    },
    "kernelspec": {
      "name": "python3",
      "display_name": "Python 3"
    },
    "language_info": {
      "name": "python"
    }
  },
  "cells": [
    {
      "cell_type": "code",
      "execution_count": 10,
      "metadata": {
        "colab": {
          "base_uri": "https://localhost:8080/"
        },
        "id": "8-ummk4fGnyW",
        "outputId": "6bfa3f42-194b-43e7-ceee-12ca9d130df8"
      },
      "outputs": [
        {
          "output_type": "stream",
          "name": "stdout",
          "text": [
            "Overwriting hellomyname.c\n"
          ]
        }
      ],
      "source": [
        "%%writefile hellomyname.c\n",
        "\n",
        "#include <stdio.h> \n",
        "\n",
        "int main(void) // Main 함수 \n",
        "{\n",
        "    printf(\"Hello world!!\\n\"); // Hello world!! 출력\n",
        "    printf(\"from JunWoo\");\n",
        "\n",
        "    return 0; // 반환값\n",
        "\n",
        "}"
      ]
    },
    {
      "cell_type": "code",
      "source": [
        "ls"
      ],
      "metadata": {
        "colab": {
          "base_uri": "https://localhost:8080/"
        },
        "id": "Zz0ELiccG4F0",
        "outputId": "f4ea38b9-7acd-4c7f-b9db-6c7a36e9844c"
      },
      "execution_count": 11,
      "outputs": [
        {
          "output_type": "stream",
          "name": "stdout",
          "text": [
            "hello.c  hellomyname.c  \u001b[0m\u001b[01;32moutput\u001b[0m*  \u001b[01;34msample_data\u001b[0m/\n"
          ]
        }
      ]
    },
    {
      "cell_type": "code",
      "source": [
        "%%shell\n",
        "gcc hellomyname.c -o output\n",
        "./output"
      ],
      "metadata": {
        "colab": {
          "base_uri": "https://localhost:8080/"
        },
        "id": "Z83YyLHVG5Ia",
        "outputId": "b535b803-e247-4104-faf2-d89ebe0ac07d"
      },
      "execution_count": 12,
      "outputs": [
        {
          "output_type": "stream",
          "name": "stdout",
          "text": [
            "Hello world!!\n",
            "from JunWoo"
          ]
        },
        {
          "output_type": "execute_result",
          "data": {
            "text/plain": []
          },
          "metadata": {},
          "execution_count": 12
        }
      ]
    },
    {
      "cell_type": "code",
      "source": [
        "%%writefile multi.c\n",
        "\n",
        "#include <stdio.h>\n",
        "\n",
        "int main(void)\n",
        "{\n",
        "    printf(\" 3 * 1 = 3\\n\");\n",
        "    printf(\" 3 * 2 = 6\\n\");\n",
        "    printf(\" 3 * 3 = 9\\n\");\n",
        "\n",
        "    return 0;\n",
        "}"
      ],
      "metadata": {
        "colab": {
          "base_uri": "https://localhost:8080/"
        },
        "id": "RgoVQYV2HF-y",
        "outputId": "47e45374-7135-4d7e-945b-783a10580951"
      },
      "execution_count": 13,
      "outputs": [
        {
          "output_type": "stream",
          "name": "stdout",
          "text": [
            "Writing multi.c\n"
          ]
        }
      ]
    },
    {
      "cell_type": "code",
      "source": [
        "ls"
      ],
      "metadata": {
        "colab": {
          "base_uri": "https://localhost:8080/"
        },
        "id": "YdvWA3AkISCE",
        "outputId": "1b89b434-0ca1-467c-b688-c6cccc51523e"
      },
      "execution_count": 14,
      "outputs": [
        {
          "output_type": "stream",
          "name": "stdout",
          "text": [
            "hello.c  hellomyname.c  multi.c  \u001b[0m\u001b[01;32moutput\u001b[0m*  \u001b[01;34msample_data\u001b[0m/\n"
          ]
        }
      ]
    },
    {
      "cell_type": "code",
      "source": [
        "%%shell\n",
        "gcc multi.c -o output\n",
        "./output"
      ],
      "metadata": {
        "colab": {
          "base_uri": "https://localhost:8080/"
        },
        "id": "tPZcMRjAITD4",
        "outputId": "266d746a-81c9-4dfd-8bf1-d18b4a7e2184"
      },
      "execution_count": 15,
      "outputs": [
        {
          "output_type": "stream",
          "name": "stdout",
          "text": [
            " 3 * 1 = 3\n",
            " 3 * 2 = 6\n",
            " 3 * 3 = 9\n"
          ]
        },
        {
          "output_type": "execute_result",
          "data": {
            "text/plain": []
          },
          "metadata": {},
          "execution_count": 15
        }
      ]
    },
    {
      "cell_type": "code",
      "source": [
        "for i in range(1,10):\n",
        "  x = 3 * i\n",
        "  print(\"3 * %d = %d\" %(i, x))"
      ],
      "metadata": {
        "colab": {
          "base_uri": "https://localhost:8080/"
        },
        "id": "BIqqBHC3IaUA",
        "outputId": "6f3638f6-9bf7-4659-d3d3-032ac8dcadc3"
      },
      "execution_count": 22,
      "outputs": [
        {
          "output_type": "stream",
          "name": "stdout",
          "text": [
            "3 * 1 = 3\n",
            "3 * 2 = 6\n",
            "3 * 3 = 9\n",
            "3 * 4 = 12\n",
            "3 * 5 = 15\n",
            "3 * 6 = 18\n",
            "3 * 7 = 21\n",
            "3 * 8 = 24\n",
            "3 * 9 = 27\n"
          ]
        }
      ]
    },
    {
      "cell_type": "code",
      "source": [
        "%%writefile add.c\n",
        "\n",
        "#include <stdio.h>\n",
        "\n",
        "int main(void)\n",
        "{\n",
        "    int x;\n",
        "    int y;\n",
        "    int sum;\n",
        "\n",
        "    x = 100;\n",
        "    y = 200;\n",
        "\n",
        "    sum = x+y;\n",
        "    printf(\"두수의 합 = %d\\n\", sum);\n",
        "\n",
        "    return 0;\n",
        "}"
      ],
      "metadata": {
        "colab": {
          "base_uri": "https://localhost:8080/"
        },
        "id": "Dp8yAiBEJgB4",
        "outputId": "08b2d6fa-02de-4492-ba8f-7a616a77f890"
      },
      "execution_count": 36,
      "outputs": [
        {
          "output_type": "stream",
          "name": "stdout",
          "text": [
            "Overwriting add.c\n"
          ]
        }
      ]
    },
    {
      "cell_type": "code",
      "source": [
        "ls"
      ],
      "metadata": {
        "colab": {
          "base_uri": "https://localhost:8080/"
        },
        "id": "lmprynldJ4Ri",
        "outputId": "06123edf-618c-41d0-9f1c-83a6e6d5b455"
      },
      "execution_count": 37,
      "outputs": [
        {
          "output_type": "stream",
          "name": "stdout",
          "text": [
            "add.c  hello.c  hellomyname.c  multi.c  \u001b[0m\u001b[01;32moutput\u001b[0m*  \u001b[01;34msample_data\u001b[0m/\n"
          ]
        }
      ]
    },
    {
      "cell_type": "code",
      "source": [
        "%%shell\n",
        "gcc add.c -o output\n",
        "./output"
      ],
      "metadata": {
        "colab": {
          "base_uri": "https://localhost:8080/"
        },
        "id": "lm8PcBHmJ5GZ",
        "outputId": "771df491-457d-4ee1-c536-5277e83fe194"
      },
      "execution_count": 38,
      "outputs": [
        {
          "output_type": "stream",
          "name": "stdout",
          "text": [
            "두수의 합 = 300\n"
          ]
        },
        {
          "output_type": "execute_result",
          "data": {
            "text/plain": []
          },
          "metadata": {},
          "execution_count": 38
        }
      ]
    },
    {
      "cell_type": "code",
      "source": [
        "%%writefile inputadd.c\n",
        "\n",
        "#include <stdio.h>\n",
        "\n",
        "int main(void)\n",
        "{\n",
        "    int x;\n",
        "    int y;\n",
        "    int sum;\n",
        "\n",
        "    printf(\"첫번째 숫자를 입력하세요: \");\n",
        "    scanf(\"%d\", &x); // 정수를 입력 받아 x에 저장\n",
        "\n",
        "    printf(\"두번째 숫자를 입력하세요: \");\n",
        "    scanf(\"%d\", &y); // 정수를 입력 받아 y에 저장\n",
        "\n",
        "    sum = x+y;\n",
        "    printf(\"두수의 합 = %d\\n\", sum);\n",
        "\n",
        "    return 0;\n",
        "}"
      ],
      "metadata": {
        "colab": {
          "base_uri": "https://localhost:8080/"
        },
        "id": "rr_z6emZKA97",
        "outputId": "81f6e237-18bb-4fed-b284-a6815f62c2e2"
      },
      "execution_count": 53,
      "outputs": [
        {
          "output_type": "stream",
          "name": "stdout",
          "text": [
            "Overwriting inputadd.c\n"
          ]
        }
      ]
    },
    {
      "cell_type": "code",
      "source": [
        "ls"
      ],
      "metadata": {
        "colab": {
          "base_uri": "https://localhost:8080/"
        },
        "id": "azI4O5yILukb",
        "outputId": "a66cc84d-42f4-451b-9036-c5fc51c43aec"
      },
      "execution_count": 49,
      "outputs": [
        {
          "output_type": "stream",
          "name": "stdout",
          "text": [
            "add.c  hello.c  hellomyname.c  inputadd.c  multi.c  \u001b[0m\u001b[01;34msample_data\u001b[0m/\n"
          ]
        }
      ]
    },
    {
      "cell_type": "code",
      "source": [
        "%%shell\n",
        "gcc inputadd.c -o output\n",
        "./output"
      ],
      "metadata": {
        "colab": {
          "base_uri": "https://localhost:8080/"
        },
        "id": "ljdhkpdELvU2",
        "outputId": "865b6a9c-03db-41bd-eb33-6d22f8539a9b"
      },
      "execution_count": 54,
      "outputs": [
        {
          "output_type": "stream",
          "name": "stdout",
          "text": [
            "첫번째 숫자를 입력하세요: 100\n",
            "두번째 숫자를 입력하세요: 503494\n",
            "두수의 합 = 503594\n"
          ]
        },
        {
          "output_type": "execute_result",
          "data": {
            "text/plain": []
          },
          "metadata": {},
          "execution_count": 54
        }
      ]
    },
    {
      "cell_type": "code",
      "source": [],
      "metadata": {
        "id": "mw2u6jeRL3Gg"
      },
      "execution_count": null,
      "outputs": []
    }
  ]
}