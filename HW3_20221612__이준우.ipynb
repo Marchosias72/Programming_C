{
  "nbformat": 4,
  "nbformat_minor": 0,
  "metadata": {
    "colab": {
      "provenance": [],
      "collapsed_sections": []
    },
    "kernelspec": {
      "name": "python3",
      "display_name": "Python 3"
    },
    "language_info": {
      "name": "python"
    }
  },
  "cells": [
    {
      "cell_type": "code",
      "execution_count": null,
      "metadata": {
        "colab": {
          "base_uri": "https://localhost:8080/"
        },
        "id": "Tr7wigLZAyr-",
        "outputId": "9854156c-b5f8-41b3-ee14-10ddca541f43"
      },
      "outputs": [
        {
          "output_type": "stream",
          "name": "stdout",
          "text": [
            "Overwriting floattoexp.c\n"
          ]
        }
      ],
      "source": [
        "%%writefile floattoexp.c\n",
        "\n",
        "#include <stdio.h>\n",
        "\n",
        "int main(void){\n",
        "  double number;\n",
        "  printf(\"실수를 입력하세요:\");\n",
        "  scanf(\"%lf\", &number);\n",
        "\n",
        "  printf(\"지수형식으로는 %le입니다\", number);\n",
        "\n",
        "  return 0;\n",
        "}"
      ]
    },
    {
      "cell_type": "code",
      "source": [
        "%%shell\n",
        "gcc floattoexp.c -o output\n",
        "./output"
      ],
      "metadata": {
        "colab": {
          "base_uri": "https://localhost:8080/"
        },
        "id": "2qofyXmmB7kn",
        "outputId": "440ecccf-cd26-4d30-beff-a79c27ad85f2"
      },
      "execution_count": null,
      "outputs": [
        {
          "output_type": "stream",
          "name": "stdout",
          "text": [
            "실수를 입력하세요:1.234\n",
            "지수형식으로는 1.234000e+00입니다"
          ]
        },
        {
          "output_type": "execute_result",
          "data": {
            "text/plain": []
          },
          "metadata": {},
          "execution_count": 7
        }
      ]
    },
    {
      "cell_type": "code",
      "source": [
        "%%writefile exptofloat.c\n",
        "\n",
        "#include <stdio.h>\n",
        "\n",
        "int main(void){\n",
        "  double number;\n",
        "\n",
        "  printf(\"지수형식으로 실수를 입력하세요:\");\n",
        "  scanf(\"%le\", &number);\n",
        "\n",
        "  printf(\"지수형식으로는 %lf입니다\", number);\n",
        "\n",
        "  return 0;\n",
        "}"
      ],
      "metadata": {
        "colab": {
          "base_uri": "https://localhost:8080/"
        },
        "id": "3SmyG7j-CYjL",
        "outputId": "d535cb90-c949-4e14-88f8-c5001541085d"
      },
      "execution_count": null,
      "outputs": [
        {
          "output_type": "stream",
          "name": "stdout",
          "text": [
            "Overwriting exptofloat.c\n"
          ]
        }
      ]
    },
    {
      "cell_type": "code",
      "source": [
        "%%shell\n",
        "gcc exptofloat.c -o output\n",
        "./output"
      ],
      "metadata": {
        "colab": {
          "base_uri": "https://localhost:8080/"
        },
        "id": "veTsBXxlDQu1",
        "outputId": "7141585e-ce97-4fb4-d4b7-ff34e6723127"
      },
      "execution_count": null,
      "outputs": [
        {
          "output_type": "stream",
          "name": "stdout",
          "text": [
            "지수형식으로 실수를 입력하세요:1.234e10\n",
            "지수형식으로는 12340000000.000000입니다"
          ]
        },
        {
          "output_type": "execute_result",
          "data": {
            "text/plain": []
          },
          "metadata": {},
          "execution_count": 10
        }
      ]
    },
    {
      "cell_type": "code",
      "source": [
        "%%writefile sphere.c\n",
        "\n",
        "#include <stdio.h>\n",
        "#define PI 3.14159265358979323846\n",
        "\n",
        "int main(void){\n",
        "  long double radius, area, volume;\n",
        "\n",
        "  printf(\"반지름을 입력하시오: \");\n",
        "  scanf(\"%Lf\", &radius);\n",
        "\n",
        "  area = 4.0*PI*(radius*radius);\n",
        "  volume = 4.0/3.0*PI*(radius*radius*radius);\n",
        "\n",
        "  printf(\"구의 표면적:%Lf\\n\", area);\n",
        "  printf(\"구의 부피:%Lf\", volume);\n",
        "\n",
        "  return 0;\n",
        "}"
      ],
      "metadata": {
        "colab": {
          "base_uri": "https://localhost:8080/"
        },
        "id": "3JvmGwP5DTgt",
        "outputId": "8389ef2f-e989-4d04-ea22-a5eb120fbe3d"
      },
      "execution_count": null,
      "outputs": [
        {
          "output_type": "stream",
          "name": "stdout",
          "text": [
            "Overwriting sphere.c\n"
          ]
        }
      ]
    },
    {
      "cell_type": "code",
      "source": [
        "%%shell\n",
        "gcc sphere.c -o output\n",
        "./output"
      ],
      "metadata": {
        "colab": {
          "base_uri": "https://localhost:8080/"
        },
        "id": "TnpEjSjNFmDl",
        "outputId": "6c1caf6c-ef45-47aa-882c-28a22d6b1c0f"
      },
      "execution_count": null,
      "outputs": [
        {
          "output_type": "stream",
          "name": "stdout",
          "text": [
            "반지름을 입력하시오: 60.0\n",
            "구의 표면적:45238.934212\n",
            "구의 부피:904778.684234"
          ]
        },
        {
          "output_type": "execute_result",
          "data": {
            "text/plain": []
          },
          "metadata": {},
          "execution_count": 17
        }
      ]
    },
    {
      "cell_type": "code",
      "source": [
        "%%writefile equation.c\n",
        "\n",
        "#include <stdio.h>\n",
        "\n",
        "int main(void){\n",
        "  double x;\n",
        "  double answer;\n",
        "\n",
        "  printf(\"x값을 입력하시오: \");\n",
        "  scanf(\"%lf\", &x);\n",
        "\n",
        "  answer = (3*x*x*x)-(7*x*x)+9;\n",
        "\n",
        "  printf(\"다항식의 값은 %lf입니다\", answer);\n",
        "\n",
        "  return 0;\n",
        "}"
      ],
      "metadata": {
        "colab": {
          "base_uri": "https://localhost:8080/"
        },
        "id": "g-nYQ7GrFo19",
        "outputId": "0583ef35-36c1-4bfc-cc3d-c2e903e41b32"
      },
      "execution_count": null,
      "outputs": [
        {
          "output_type": "stream",
          "name": "stdout",
          "text": [
            "Overwriting equation.c\n"
          ]
        }
      ]
    },
    {
      "cell_type": "code",
      "source": [
        "%%shell\n",
        "gcc equation.c -o output\n",
        "./output"
      ],
      "metadata": {
        "colab": {
          "base_uri": "https://localhost:8080/"
        },
        "id": "0TqjKGYqHA_N",
        "outputId": "a3658b44-8d0f-43a6-85c3-0fc7c8d1c72f"
      },
      "execution_count": null,
      "outputs": [
        {
          "output_type": "stream",
          "name": "stdout",
          "text": [
            "x값을 입력하시오: 3.9\n",
            "다항식의 값은 80.487000입니다"
          ]
        },
        {
          "output_type": "execute_result",
          "data": {
            "text/plain": []
          },
          "metadata": {},
          "execution_count": 23
        }
      ]
    },
    {
      "cell_type": "code",
      "source": [
        "%%writefile asciicode.c\n",
        "#include <stdio.h>\n",
        "\n",
        "int main(void){\n",
        "\n",
        "  char ch;\n",
        "  printf(\"문자를 입력하시오: \");\n",
        "  ch = getchar();\n",
        "  printf(\"아스키코드: %d\", ch);\n",
        "\n",
        "  return 0;\n",
        "}"
      ],
      "metadata": {
        "id": "ecPeIydDHGmN",
        "colab": {
          "base_uri": "https://localhost:8080/"
        },
        "outputId": "85767bbc-1fea-47b3-d847-cab102cd0a88"
      },
      "execution_count": 26,
      "outputs": [
        {
          "output_type": "stream",
          "name": "stdout",
          "text": [
            "Overwriting asciicode.c\n"
          ]
        }
      ]
    },
    {
      "cell_type": "code",
      "source": [
        "%%shell\n",
        "gcc asciicode.c -o output\n",
        "./output"
      ],
      "metadata": {
        "colab": {
          "base_uri": "https://localhost:8080/"
        },
        "id": "rsu43VT5XlSe",
        "outputId": "3bb4d18e-94e2-4208-d47e-5f63e1a0981e"
      },
      "execution_count": 28,
      "outputs": [
        {
          "output_type": "stream",
          "name": "stdout",
          "text": [
            "문자를 입력하시오: a\n",
            "아스키코드: 97"
          ]
        },
        {
          "output_type": "execute_result",
          "data": {
            "text/plain": []
          },
          "metadata": {},
          "execution_count": 28
        }
      ]
    },
    {
      "cell_type": "code",
      "source": [
        "%%writefile char.c\n",
        "#include <stdio.h>\n",
        "\n",
        "int main(void){\n",
        "  char a, b, c;\n",
        "\n",
        "  printf(\"문자를 입력하세요: \");\n",
        "  scanf(\"%c %c %c\", &c, &b, &a);\n",
        "\n",
        "  printf(\"문자: %c %c %c\", a, b, c);\n",
        "\n",
        "  return 0;\n",
        "}"
      ],
      "metadata": {
        "colab": {
          "base_uri": "https://localhost:8080/"
        },
        "id": "Zt41cXQnXpII",
        "outputId": "a2f25d15-98d1-490f-a3a4-77b45c915b61"
      },
      "execution_count": 9,
      "outputs": [
        {
          "output_type": "stream",
          "name": "stdout",
          "text": [
            "Overwriting char.c\n"
          ]
        }
      ]
    },
    {
      "cell_type": "code",
      "source": [
        "%%shell\n",
        "gcc char.c -o output\n",
        "./output"
      ],
      "metadata": {
        "colab": {
          "base_uri": "https://localhost:8080/"
        },
        "id": "89NpliJFYYIH",
        "outputId": "351af1fa-7150-4943-9d98-d32465b07ad2"
      },
      "execution_count": 11,
      "outputs": [
        {
          "output_type": "stream",
          "name": "stdout",
          "text": [
            "문자를 입력하세요: a b c\n",
            "문자: c b a"
          ]
        },
        {
          "output_type": "execute_result",
          "data": {
            "text/plain": []
          },
          "metadata": {},
          "execution_count": 11
        }
      ]
    },
    {
      "cell_type": "code",
      "source": [
        "%%writefile sizeoftype.c\n",
        "#include <stdio.h>\n",
        "\n",
        "int main(void) {\n",
        "  printf(\"char형의 크기는 %ld바이트입니다.\\n\", sizeof(char));\n",
        "  printf(\"short형의 크기는 %ld바이트입니다.\\n\", sizeof(short));\n",
        "  printf(\"int형의 크기는 %ld바이트입니다.\\n\", sizeof(int));\n",
        "  printf(\"long형의 크기는 %ld바이트입니다.\\n\", sizeof(long));\n",
        "  printf(\"long long형의 크기는 %ld바이트입니다.\\n\", sizeof(long long));\n",
        "  printf(\"float형의 크기는 %ld바이트입니다.\\n\", sizeof(float));\n",
        "  printf(\"double형의 크기는 %ld바이트입니다.\\n\", sizeof(double));\n",
        "  printf(\"long double형의 크기는 %ld바이트입니다.\\n\", sizeof(long double));\n",
        "\n",
        "  return 0;\n",
        "}"
      ],
      "metadata": {
        "colab": {
          "base_uri": "https://localhost:8080/"
        },
        "id": "nTT6ZQINYbFx",
        "outputId": "0f4e0184-7e98-4c1c-ad83-af9dc326099d"
      },
      "execution_count": 16,
      "outputs": [
        {
          "output_type": "stream",
          "name": "stdout",
          "text": [
            "Overwriting sizeoftype.c\n"
          ]
        }
      ]
    },
    {
      "cell_type": "code",
      "source": [
        "%%shell\n",
        "gcc sizeoftype.c -o output\n",
        "./output"
      ],
      "metadata": {
        "colab": {
          "base_uri": "https://localhost:8080/"
        },
        "id": "l3riBzrvY-h3",
        "outputId": "84041ff5-d862-4acd-cec7-b004812c6525"
      },
      "execution_count": 17,
      "outputs": [
        {
          "output_type": "stream",
          "name": "stdout",
          "text": [
            "char형의 크기는 1바이트입니다.\n",
            "short형의 크기는 2바이트입니다.\n",
            "int형의 크기는 4바이트입니다.\n",
            "long형의 크기는 8바이트입니다.\n",
            "long long형의 크기는 8바이트입니다.\n",
            "float형의 크기는 4바이트입니다.\n",
            "double형의 크기는 8바이트입니다.\n",
            "long double형의 크기는 16바이트입니다.\n"
          ]
        },
        {
          "output_type": "execute_result",
          "data": {
            "text/plain": []
          },
          "metadata": {},
          "execution_count": 17
        }
      ]
    },
    {
      "cell_type": "code",
      "source": [
        "%%writefile speed.c\n",
        "#include <stdio.h>\n",
        "\n",
        "int main() {\n",
        "  float distance, time, min, sec, totalTime, distanceKm;\n",
        "\n",
        "  printf(\"거리를 미터로 입력하시오: \");\n",
        "  scanf(\"%f\", &distance);\n",
        "  printf(\"시간을 입력하시오: \");\n",
        "  scanf(\"%f\", &time);\n",
        "  printf(\"분을 입력하시오: \");\n",
        "  scanf(\"%f\", &min);\n",
        "  printf(\"초를 입력하시오: \");\n",
        "  scanf(\"%f\", &sec);\n",
        "\n",
        "  totalTime = time + (min * (1.0/60.0)) + (sec * (1.0/3600.0));\n",
        "  distanceKm = distance / 1000;\n",
        "  printf(\"속도: %f\\n\", distanceKm / totalTime);\n",
        "}"
      ],
      "metadata": {
        "colab": {
          "base_uri": "https://localhost:8080/"
        },
        "id": "2gf_rg2hZDk5",
        "outputId": "e2dd2115-9b45-4498-d9c2-ada59086be9a"
      },
      "execution_count": 34,
      "outputs": [
        {
          "output_type": "stream",
          "name": "stdout",
          "text": [
            "Overwriting speed.c\n"
          ]
        }
      ]
    },
    {
      "cell_type": "code",
      "source": [
        "%%shell\n",
        "gcc speed.c -o output\n",
        "./output"
      ],
      "metadata": {
        "colab": {
          "base_uri": "https://localhost:8080/"
        },
        "id": "PrRhBnMkaqSB",
        "outputId": "84e113a6-5793-4a09-c523-5fd1556a2a10"
      },
      "execution_count": 35,
      "outputs": [
        {
          "output_type": "stream",
          "name": "stdout",
          "text": [
            "거리를 미터로 입력하시오: 5000\n",
            "시간을 입력하시오: 1\n",
            "분을 입력하시오: 2\n",
            "초를 입력하시오: 10\n",
            "속도: 4.825737\n"
          ]
        },
        {
          "output_type": "execute_result",
          "data": {
            "text/plain": []
          },
          "metadata": {},
          "execution_count": 35
        }
      ]
    },
    {
      "cell_type": "code",
      "source": [],
      "metadata": {
        "id": "zcJI6UHla1Ad"
      },
      "execution_count": null,
      "outputs": []
    }
  ]
}