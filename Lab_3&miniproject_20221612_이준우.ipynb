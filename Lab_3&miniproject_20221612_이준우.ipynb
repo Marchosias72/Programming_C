{
  "nbformat": 4,
  "nbformat_minor": 0,
  "metadata": {
    "colab": {
      "provenance": []
    },
    "kernelspec": {
      "name": "python3",
      "display_name": "Python 3"
    },
    "language_info": {
      "name": "python"
    }
  },
  "cells": [
    {
      "cell_type": "code",
      "execution_count": 1,
      "metadata": {
        "colab": {
          "base_uri": "https://localhost:8080/"
        },
        "id": "NA9uJTqlfACb",
        "outputId": "992d9a00-6350-4587-85c5-87fde12dcae8"
      },
      "outputs": [
        {
          "output_type": "stream",
          "name": "stdout",
          "text": [
            "Writing USDTOKRW.c\n"
          ]
        }
      ],
      "source": [
        "\n",
        "%%writefile USDTOKRW.c\n",
        "\n",
        "#include <stdio.h> \n",
        "#define Exchange_rate 1418 // 9월 24일 기준 환율\n",
        "\n",
        "int main(void) // Main 함수 \n",
        "{\n",
        "  int USD;\n",
        "  int KRW;\n",
        "  printf(\"달러를 입력하세요\");\n",
        "  scanf(\"%d\", &USD);\n",
        "  KRW = Exchange_rate * USD;\n",
        "  printf(\"%d달러는 %d원입니다\\n\", USD, KRW);\n",
        "  return 0;\n",
        "}"
      ]
    },
    {
      "cell_type": "code",
      "source": [
        "%%shell\n",
        "gcc USDTOKRW.c -o output\n",
        "./output"
      ],
      "metadata": {
        "colab": {
          "base_uri": "https://localhost:8080/"
        },
        "id": "581aHX-9fKl9",
        "outputId": "61b72e0d-8f1d-4b7e-b5e8-3bbec6edcf25"
      },
      "execution_count": 2,
      "outputs": [
        {
          "output_type": "stream",
          "name": "stdout",
          "text": [
            "달러를 입력하세요500000\n",
            "500000달러는 709000000원입니다\n"
          ]
        },
        {
          "output_type": "execute_result",
          "data": {
            "text/plain": []
          },
          "metadata": {},
          "execution_count": 2
        }
      ]
    },
    {
      "cell_type": "code",
      "source": [
        "%%writefile Bank.c\n",
        "\n",
        "#include <stdio.h> \n",
        "#define year 30\n",
        "#define month 12\n",
        "\n",
        "int main(void) // Main 함수 \n",
        "{\n",
        "  long long int sum;\n",
        "  long long int money;\n",
        "\n",
        "  printf(\"매월 저축 금액을 입력하세요.\");\n",
        "  scanf(\"%lld\", &money);\n",
        "\n",
        "  sum = money * year * month;\n",
        "  printf(\"%d년후 재산은 %lld원입니다\\n\", year, sum);\n",
        "  return 0;\n",
        "\n",
        "}"
      ],
      "metadata": {
        "colab": {
          "base_uri": "https://localhost:8080/"
        },
        "id": "6PSs_zUjfMSk",
        "outputId": "f003ab7d-1060-464a-9c3f-18a5578653c4"
      },
      "execution_count": 5,
      "outputs": [
        {
          "output_type": "stream",
          "name": "stdout",
          "text": [
            "Overwriting Bank.c\n"
          ]
        }
      ]
    },
    {
      "cell_type": "code",
      "source": [
        "%%shell\n",
        "gcc Bank.c -o output\n",
        "./output\n"
      ],
      "metadata": {
        "colab": {
          "base_uri": "https://localhost:8080/"
        },
        "id": "pS8aHGjIfShX",
        "outputId": "15b7969d-581e-475d-de58-3bb00b7ce84a"
      },
      "execution_count": 6,
      "outputs": [
        {
          "output_type": "stream",
          "name": "stdout",
          "text": [
            "매월 저축 금액을 입력하세요.10000000\n",
            "30년후 재산은 3600000000원입니다\n"
          ]
        },
        {
          "output_type": "execute_result",
          "data": {
            "text/plain": []
          },
          "metadata": {},
          "execution_count": 6
        }
      ]
    },
    {
      "cell_type": "code",
      "source": [
        "%%writefile variable.c\n",
        "#include <stdio.h>\n",
        "\n",
        "int main(void) // Main 함수 \n",
        "{\n",
        "  int a = 100;\n",
        "  int b = 200;\n",
        "  int box;\n",
        "\n",
        "  printf(\"Before\\n\");\n",
        "  printf(\"%d\\n\", a);\n",
        "  printf(\"%d\\n\", b);\n",
        "\n",
        "  box = a;\n",
        "  a = b;\n",
        "  b = box;\n",
        "\n",
        "  printf(\"After\\n\");\n",
        "  printf(\"%d\\n\", a);\n",
        "  printf(\"%d\\n\", b);\n",
        "  \n",
        "  return 0;\n",
        "\n",
        "}"
      ],
      "metadata": {
        "colab": {
          "base_uri": "https://localhost:8080/"
        },
        "id": "wt87tNS-fUqq",
        "outputId": "a2b300d3-701c-4da7-f601-410a90bdbcb4"
      },
      "execution_count": 7,
      "outputs": [
        {
          "output_type": "stream",
          "name": "stdout",
          "text": [
            "Writing variable.c\n"
          ]
        }
      ]
    },
    {
      "cell_type": "code",
      "source": [
        "%%shell\n",
        "gcc variable.c -o output\n",
        "./output"
      ],
      "metadata": {
        "colab": {
          "base_uri": "https://localhost:8080/"
        },
        "id": "bMLYKFiEfqcl",
        "outputId": "eb3e47d8-0c96-4dcf-c7dd-05058d4d9b6a"
      },
      "execution_count": 8,
      "outputs": [
        {
          "output_type": "stream",
          "name": "stdout",
          "text": [
            "Before\n",
            "100\n",
            "200\n",
            "After\n",
            "200\n",
            "100\n"
          ]
        },
        {
          "output_type": "execute_result",
          "data": {
            "text/plain": []
          },
          "metadata": {},
          "execution_count": 8
        }
      ]
    },
    {
      "cell_type": "markdown",
      "source": [
        "lab 3-4\n",
        "10000000은 4비트씩 자르면 1000, 0000이다. 1000은 2진수로 10진수로 표현하면 8이다. 따라서 16진수로 표현하면 8이다. 0000은 0이므로 16진수로 표현하여도 0이다. 10000000를 16진수로 표현하면 0x80이다"
      ],
      "metadata": {
        "id": "dtrYOos2fvNg"
      }
    },
    {
      "cell_type": "code",
      "source": [
        "%%writefile light.c\n",
        "\n",
        "#include <stdio.h> \n",
        "\n",
        "\n",
        "int main(void) // Main 함수 \n",
        "{\n",
        "  double light_speed  = 300000;\n",
        "  double distance = 149600000;  \n",
        "\n",
        "  double time;\n",
        "\n",
        "  time = distance/light_speed;\n",
        "  time = time/60.0;\n",
        "  \n",
        "  printf(\"빛의 속도는 %lfkm/s\\n\", light_speed);\n",
        "  printf(\"태양과 지구의 거리는 %lfkm\\n\", distance);\n",
        "  printf(\"도달 시간은 %lf초\\n\", time);\n",
        "\n",
        "  return 0;\n",
        "\n",
        "\n",
        "\n",
        "}"
      ],
      "metadata": {
        "colab": {
          "base_uri": "https://localhost:8080/"
        },
        "id": "oPpv5fuHk2DB",
        "outputId": "90940baf-d915-4854-db17-7953da094a68"
      },
      "execution_count": 15,
      "outputs": [
        {
          "output_type": "stream",
          "name": "stdout",
          "text": [
            "Overwriting light.c\n"
          ]
        }
      ]
    },
    {
      "cell_type": "code",
      "source": [
        "%%shell\n",
        "gcc light.c -o output\n",
        "./output"
      ],
      "metadata": {
        "colab": {
          "base_uri": "https://localhost:8080/"
        },
        "id": "y8TUqOcDk18Q",
        "outputId": "6ac2cea8-9f69-481d-eb77-b954d913befd"
      },
      "execution_count": 16,
      "outputs": [
        {
          "output_type": "stream",
          "name": "stdout",
          "text": [
            "빛의 속도는 300000.000000km/s\n",
            "태양과 지구의 거리는 149600000.000000km\n",
            "도달 시간은 8.311111초\n"
          ]
        },
        {
          "output_type": "execute_result",
          "data": {
            "text/plain": []
          },
          "metadata": {},
          "execution_count": 16
        }
      ]
    },
    {
      "cell_type": "code",
      "source": [
        "%%writefile temp.c\n",
        "\n",
        "#include <stdio.h> \n",
        "\n",
        "\n",
        "int main(void) // Main 함수 \n",
        "{\n",
        "  double celsius, fashrenheit;\n",
        "\n",
        "  printf(\"화씨온도 = \");\n",
        "  scanf(\"%lf\", &fashrenheit);\n",
        "\n",
        "  celsius = (fashrenheit-32.0)*5.0/9.0;\n",
        "  printf(\"섭씨온도=%lf\\n\", celsius);\n",
        "\n",
        "  return 0;\n",
        "\n",
        "}\n",
        " \n",
        "\n",
        "\n"
      ],
      "metadata": {
        "colab": {
          "base_uri": "https://localhost:8080/"
        },
        "id": "o-ytx7yNl_1e",
        "outputId": "fdcc1c1d-6400-4c62-9372-4d5fb0f37f33"
      },
      "execution_count": 18,
      "outputs": [
        {
          "output_type": "stream",
          "name": "stdout",
          "text": [
            "Writing temp.c\n"
          ]
        }
      ]
    },
    {
      "cell_type": "code",
      "source": [
        "%%shell\n",
        "gcc temp.c -o output\n",
        "./output"
      ],
      "metadata": {
        "colab": {
          "base_uri": "https://localhost:8080/"
        },
        "id": "7fAM-Piql_uL",
        "outputId": "0a8c7c71-7a95-452f-c224-4ad76f9a0e7a"
      },
      "execution_count": 20,
      "outputs": [
        {
          "output_type": "stream",
          "name": "stdout",
          "text": [
            "화씨온도 = 100\n",
            "섭씨온도=37.777778\n"
          ]
        },
        {
          "output_type": "execute_result",
          "data": {
            "text/plain": []
          },
          "metadata": {},
          "execution_count": 20
        }
      ]
    },
    {
      "cell_type": "code",
      "source": [
        "%%writefile circle.c\n",
        "\n",
        "#include <stdio.h> \n",
        "#define PI 3.141592\n",
        "\n",
        "int main(void) // Main 함수 \n",
        "{\n",
        "  double radius;\n",
        "  double area;\n",
        "\n",
        "  printf(\"원의 반지름을 입력하세요\");\n",
        "  scanf(\"%lf\", &radius);\n",
        "\n",
        "  area = PI*radius*radius;\n",
        "  printf(\"원의 면적: %f\\n\", area);\n",
        "\n",
        "  return 0;\n",
        "\n",
        "}\n",
        " "
      ],
      "metadata": {
        "colab": {
          "base_uri": "https://localhost:8080/"
        },
        "id": "GFVyTG4mmt7b",
        "outputId": "e862b62d-f433-4e61-9759-5f9e48c44cca"
      },
      "execution_count": 23,
      "outputs": [
        {
          "output_type": "stream",
          "name": "stdout",
          "text": [
            "Overwriting circle.c\n"
          ]
        }
      ]
    },
    {
      "cell_type": "code",
      "source": [
        "%%shell\n",
        "gcc circle.c -o output\n",
        "./output"
      ],
      "metadata": {
        "colab": {
          "base_uri": "https://localhost:8080/"
        },
        "id": "jp1ZsSEVmt0e",
        "outputId": "d3122594-f1ca-4f24-af54-03afbb32d968"
      },
      "execution_count": 25,
      "outputs": [
        {
          "output_type": "stream",
          "name": "stdout",
          "text": [
            "원의 반지름을 입력하세요10.0\n",
            "원의 면적: 314.159200\n"
          ]
        },
        {
          "output_type": "execute_result",
          "data": {
            "text/plain": []
          },
          "metadata": {},
          "execution_count": 25
        }
      ]
    },
    {
      "cell_type": "code",
      "source": [
        "%%writefile miniproject.c\n",
        "\n",
        "#include <stdio.h>\n",
        "\n",
        "int main(void)\n",
        "{\n",
        "  int age;\n",
        "  int ID;\n",
        "  int product;\n",
        "  double stars;\n",
        "  char alphabet;\n",
        "\n",
        "  printf(\"자신의 나이를 입력하세요:\");\n",
        "  scanf(\"%d\", &age);\n",
        "  printf(\"나이: %d\\n\", age);\n",
        "\n",
        "  printf(\"직원 아이디를 입력하세요:\");\n",
        "  scanf(\"%d\", &ID);\n",
        "  printf(\"아이디: %d\\n\", ID);\n",
        "\n",
        "  printf(\"생산량를 입력하세요:\");\n",
        "  scanf(\"%d\", &product);\n",
        "  printf(\"생산량: %d\\n\", product);\n",
        "\n",
        "  printf(\"별의 개수를 입력하세요:\");\n",
        "  scanf(\"%lf\", &stars);\n",
        "  printf(\"별의 개수: %e\\n\", stars);\n",
        "\n",
        "  getchar();\n",
        "\n",
        "  printf(\"글자를 입력하세요:\");\n",
        "  alphabet = getchar();\n",
        "  printf(\"글자: %c\\n\", alphabet);\n",
        "\n",
        "  return 0;\n",
        "}"
      ],
      "metadata": {
        "colab": {
          "base_uri": "https://localhost:8080/"
        },
        "id": "u7MJKToRfyt9",
        "outputId": "3e2ff0d6-cefe-4155-a88d-4846342b627e"
      },
      "execution_count": 10,
      "outputs": [
        {
          "output_type": "stream",
          "name": "stdout",
          "text": [
            "Overwriting miniproject.c\n"
          ]
        }
      ]
    },
    {
      "cell_type": "code",
      "source": [
        "%%shell\n",
        "gcc miniproject.c -o output\n",
        "./output"
      ],
      "metadata": {
        "colab": {
          "base_uri": "https://localhost:8080/"
        },
        "id": "bq1I8MwQf8no",
        "outputId": "3c322197-4455-4719-a771-2e2f49e918ff"
      },
      "execution_count": 11,
      "outputs": [
        {
          "output_type": "stream",
          "name": "stdout",
          "text": [
            "자신의 나이를 입력하세요:20\n",
            "나이: 20\n",
            "직원 아이디를 입력하세요:123\n",
            "아이디: 123\n",
            "생산량를 입력하세요:100000\n",
            "생산량: 100000\n",
            "별의 개수를 입력하세요:7e22\n",
            "별의 개수: 7.000000e+22\n",
            "글자를 입력하세요:a\n",
            "글자: a\n"
          ]
        },
        {
          "output_type": "execute_result",
          "data": {
            "text/plain": []
          },
          "metadata": {},
          "execution_count": 11
        }
      ]
    },
    {
      "cell_type": "code",
      "source": [],
      "metadata": {
        "id": "58rFyd49kmle"
      },
      "execution_count": null,
      "outputs": []
    }
  ]
}