{
  "nbformat": 4,
  "nbformat_minor": 0,
  "metadata": {
    "colab": {
      "provenance": []
    },
    "kernelspec": {
      "name": "python3",
      "display_name": "Python 3"
    },
    "language_info": {
      "name": "python"
    }
  },
  "cells": [
    {
      "cell_type": "code",
      "execution_count": 4,
      "metadata": {
        "colab": {
          "base_uri": "https://localhost:8080/"
        },
        "id": "sSzcg0VvQeWv",
        "outputId": "d27427ce-4cb9-45ac-a7e0-d42341277497"
      },
      "outputs": [
        {
          "output_type": "stream",
          "name": "stdout",
          "text": [
            "Overwriting calc.c\n"
          ]
        }
      ],
      "source": [
        "%%writefile calc.c\n",
        "\n",
        "#include <stdio.h>\n",
        "\n",
        "int main(void)\n",
        "{\n",
        "    int x;\n",
        "    int y;\n",
        "    int result;\n",
        "\n",
        "    printf(\"첫번째 숫자를 입력하세요: \");\n",
        "    scanf(\"%d\", &x); // 정수를 입력 받아 x에 저장\n",
        "\n",
        "    printf(\"두번째 숫자를 입력하세요: \");\n",
        "    scanf(\"%d\", &y); // 정수를 입력 받아 y에 저장\n",
        "\n",
        "    result = x+y; // 합\n",
        "    printf(\"두수의 합 = %d\\n\", result);\n",
        "\n",
        "    result = x-y; // 차\n",
        "    printf(\"두수의 차 = %d\\n\", result);\n",
        "\n",
        "    result = x*y; // 곱\n",
        "    printf(\"두수의 곱 = %d\\n\", result);\n",
        "\n",
        "    result = x/y; // 몫\n",
        "    printf(\"두수의 몫 = %d\\n\", result); \n",
        "\n",
        "    return 0;\n",
        "}\n"
      ]
    },
    {
      "cell_type": "code",
      "source": [
        "ls"
      ],
      "metadata": {
        "colab": {
          "base_uri": "https://localhost:8080/"
        },
        "id": "Cvi5QWlnRcS6",
        "outputId": "e7787194-e736-4495-acdd-313000beab96"
      },
      "execution_count": 2,
      "outputs": [
        {
          "output_type": "stream",
          "name": "stdout",
          "text": [
            "calc.c  \u001b[0m\u001b[01;34msample_data\u001b[0m/\n"
          ]
        }
      ]
    },
    {
      "cell_type": "code",
      "source": [
        "%%shell\n",
        "gcc calc.c -o output\n",
        "./output"
      ],
      "metadata": {
        "colab": {
          "base_uri": "https://localhost:8080/"
        },
        "id": "ZdnE8dd2RhbY",
        "outputId": "31f70c12-1eca-43d7-cf77-a6c6fbd5c113"
      },
      "execution_count": 5,
      "outputs": [
        {
          "output_type": "stream",
          "name": "stdout",
          "text": [
            "첫번째 숫자를 입력하세요: 10\n",
            "두번째 숫자를 입력하세요: 3\n",
            "두수의 합 = 13\n",
            "두수의 차 = 7\n",
            "두수의 곱 = 30\n",
            "두수의 몫 = 3\n"
          ]
        },
        {
          "output_type": "execute_result",
          "data": {
            "text/plain": []
          },
          "metadata": {},
          "execution_count": 5
        }
      ]
    },
    {
      "cell_type": "code",
      "source": [
        "%%writefile calc2.c\n",
        "\n",
        "#include <stdio.h>\n",
        "\n",
        "int main(void)\n",
        "{\n",
        "    int x;\n",
        "    int y;\n",
        "    int result;\n",
        "\n",
        "    printf(\"P1 가격을 입력하세요: \");\n",
        "    scanf(\"%d\", &x); // 정수를 입력 받아 x에 저장\n",
        "\n",
        "    printf(\"P2 가격을 입력하세요: \");\n",
        "    scanf(\"%d\", &y); // 정수를 입력 받아 y에 저장\n",
        "\n",
        "    result = (x+y)/2;\n",
        "    printf(\"두가격의 평균 = %d\\n\", result); \n",
        "\n",
        "    return 0;\n",
        "}\n"
      ],
      "metadata": {
        "colab": {
          "base_uri": "https://localhost:8080/"
        },
        "id": "TNv4Ijz5RsI7",
        "outputId": "67c610c7-400a-4833-9c61-caf6501fe9f8"
      },
      "execution_count": 13,
      "outputs": [
        {
          "output_type": "stream",
          "name": "stdout",
          "text": [
            "Overwriting calc2.c\n"
          ]
        }
      ]
    },
    {
      "cell_type": "code",
      "source": [
        "%%shell\n",
        "gcc calc2.c -o output\n",
        "./output\n"
      ],
      "metadata": {
        "colab": {
          "base_uri": "https://localhost:8080/"
        },
        "id": "9zeIa5DrSbyC",
        "outputId": "1d902363-a50b-4bf5-f648-065e373efcc3"
      },
      "execution_count": 11,
      "outputs": [
        {
          "output_type": "stream",
          "name": "stdout",
          "text": [
            "P1 가격을 입력하세요: 70200\n",
            "P2 가격을 입력하세요: 89300\n",
            "두가격의 평균 = 79750\n"
          ]
        },
        {
          "output_type": "execute_result",
          "data": {
            "text/plain": []
          },
          "metadata": {},
          "execution_count": 11
        }
      ]
    },
    {
      "cell_type": "code",
      "source": [
        "%%writefile calc3.c\n",
        "\n",
        "#include <stdio.h>\n",
        "\n",
        "int main(void)\n",
        "{\n",
        "    int jet; // 항공권 가격\n",
        "    int hotel; // 호텔 가격\n",
        "    int money; // 하루 용돈\n",
        "    int nights; // 숙박일수\n",
        "    int result;\n",
        "\n",
        "    printf(\"항공권 가격을 입력하세요: \");\n",
        "    scanf(\"%d\", &jet); // 정수를 입력 받아 x에 저장\n",
        "\n",
        "    printf(\"호텔 1박 가격을 입력하세요: \");\n",
        "    scanf(\"%d\", &hotel); // 정수를 입력 받아 y에 저장\n",
        "\n",
        "    printf(\"하루 용돈을 입력하세요: \");\n",
        "    scanf(\"%d\", &money); // 정수를 입력 받아 z에 저장\n",
        "\n",
        "    printf(\"숙박일수를 입력하세요: \");\n",
        "    scanf(\"%d\", &nights); // 정수를 입력 받아 k에 저장\n",
        "\n",
        "    result = jet + (hotel + money)*nights;\n",
        "\n",
        "    printf(\"=========================\\n\");\n",
        "    printf(\"총여행비용 = %d\\n\", result); \n",
        "    printf(\"=========================\");\n",
        "\n",
        "    return 0;\n",
        "}"
      ],
      "metadata": {
        "colab": {
          "base_uri": "https://localhost:8080/"
        },
        "id": "EqlYYDYgS8yT",
        "outputId": "46cdf780-436e-4a06-86cc-7b5eeabafd18"
      },
      "execution_count": 19,
      "outputs": [
        {
          "output_type": "stream",
          "name": "stdout",
          "text": [
            "Overwriting calc3.c\n"
          ]
        }
      ]
    },
    {
      "cell_type": "code",
      "source": [
        "ls"
      ],
      "metadata": {
        "colab": {
          "base_uri": "https://localhost:8080/"
        },
        "id": "8JiO4v66UUDy",
        "outputId": "10ce8bef-d8e9-4220-ff35-3788fb744219"
      },
      "execution_count": 15,
      "outputs": [
        {
          "output_type": "stream",
          "name": "stdout",
          "text": [
            "calc2.c  calc3.c  calc.c  \u001b[0m\u001b[01;32moutput\u001b[0m*  \u001b[01;34msample_data\u001b[0m/\n"
          ]
        }
      ]
    },
    {
      "cell_type": "code",
      "source": [
        "%%shell\n",
        "gcc calc3.c -o output\n",
        "./output"
      ],
      "metadata": {
        "colab": {
          "base_uri": "https://localhost:8080/"
        },
        "id": "ieYSuBYcUU4b",
        "outputId": "ee353ef7-e185-4737-b3ae-0551616a0bdd"
      },
      "execution_count": 20,
      "outputs": [
        {
          "output_type": "stream",
          "name": "stdout",
          "text": [
            "항공권 가격을 입력하세요: 1000000\n",
            "호텔 1박 가격을 입력하세요: 200000\n",
            "하루 용돈을 입력하세요: 50000\n",
            "숙박일수를 입력하세요: 3\n",
            "=========================\n",
            "총여행비용 = 1750000\n",
            "========================="
          ]
        },
        {
          "output_type": "execute_result",
          "data": {
            "text/plain": []
          },
          "metadata": {},
          "execution_count": 20
        }
      ]
    }
  ]
}